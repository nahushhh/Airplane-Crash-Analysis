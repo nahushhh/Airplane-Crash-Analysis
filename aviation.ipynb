{
 "cells": [
  {
   "cell_type": "code",
   "execution_count": 2,
   "metadata": {},
   "outputs": [],
   "source": [
    "from bs4 import BeautifulSoup\n",
    "import requests\n",
    "\n",
    "BASE_URL = \"https://en.wikipedia.org/wiki/List_of_accidents_and_incidents_involving_commercial_aircraft\""
   ]
  },
  {
   "cell_type": "code",
   "execution_count": 3,
   "metadata": {},
   "outputs": [],
   "source": [
    "response = requests.get(BASE_URL)\n",
    "\n",
    "if response.status_code==200:\n",
    "    html_content = response.text\n",
    "else:\n",
    "    print(\"Status code - \", response.status_code)"
   ]
  },
  {
   "cell_type": "code",
   "execution_count": 4,
   "metadata": {},
   "outputs": [],
   "source": [
    "soup = BeautifulSoup(html_content, 'html.parser')"
   ]
  },
  {
   "cell_type": "markdown",
   "metadata": {},
   "source": [
    "## Extract "
   ]
  },
  {
   "cell_type": "code",
   "execution_count": 5,
   "metadata": {},
   "outputs": [
    {
     "name": "stdout",
     "output_type": "stream",
     "text": [
      "105 153\n"
     ]
    }
   ],
   "source": [
    "def extract_data():\n",
    "    def extract_years():\n",
    "        level_one = soup.find('div', class_='mw-page-container').find('div', class_='mw-page-container-inner').find('div', class_='mw-content-container')\n",
    "\n",
    "        year_by_year = level_one.find('div', id='bodyContent').find('div', id='mw-content-text').find_all('div', class_='mw-heading mw-heading3')\n",
    "\n",
    "        all_years = []\n",
    "        for year in year_by_year:\n",
    "            all_years.append(year.find('h3').text)\n",
    "        \n",
    "        return all_years\n",
    "\n",
    "\n",
    "    def extrtact_content():\n",
    "        import re\n",
    "        parent_div = soup.find('div', id='bodyContent').find('div', id='mw-content-text').find('div', class_='mw-content-ltr mw-parser-output')\n",
    "        all_uld = parent_div.find_all(recursive=False)\n",
    "\n",
    "\n",
    "        all_content = []\n",
    "\n",
    "        regex = r'^(January|February|March|April|May|June|July|August|September|October|November|December)\\s\\d+'\n",
    "\n",
    "        for element in parent_div.children:\n",
    "            temp = []\n",
    "\n",
    "            # Process only <ul> elements\n",
    "            if element.name == 'ul':\n",
    "                # Extract <li> elements from <ul>\n",
    "                for li in element.find_all('li', recursive=False):\n",
    "                    text = li.text\n",
    "                    if re.search(regex, text):  # Check if it matches a date format\n",
    "                        temp.append(text)\n",
    "\n",
    "\n",
    "            # Append to the final list if there is any content found\n",
    "            if temp:\n",
    "                all_content.append(temp)\n",
    "        \n",
    "        return all_content\n",
    "    \n",
    "    all_years = extract_years()\n",
    "    all_content = extrtact_content()\n",
    "\n",
    "    return all_years, all_content\n",
    "\n",
    "all_years, all_content = extract_data()\n",
    "print(len(all_years), len(all_content))\n"
   ]
  },
  {
   "cell_type": "markdown",
   "metadata": {},
   "source": [
    "## Additional Cleaning of data done Manually"
   ]
  },
  {
   "cell_type": "code",
   "execution_count": 6,
   "metadata": {},
   "outputs": [
    {
     "data": {
      "text/plain": [
       "['January 5 – In the 1950 Sverdlovsk plane crash, a Lisunov Li-2 crashed near Sverdlovsk (now Yekaterinburg), Soviet Union, killing all 19 on board.',\n",
       " 'March 7 – Northwest Orient Airlines Flight 307, a Martin 2–0–2, crashed near Minneapolis–Saint Paul International Airport after hitting a flagpole during approach, killing all 13 on board and two on the ground.',\n",
       " 'March 12 – The Llandow air disaster: An Airflight Avro 689 Tudor V stalled and crashed on approach to Llandow Aewrodrome due to improper loading, resulting in a center of gravity exceeding the aft limit; 80 out of the 83 people on board die, at the time the worst air disaster in history.',\n",
       " 'June 24 – Northwest Orient Airlines Flight 2501, a Douglas DC-4, with 58 people on board, disappeared without a trace over Lake Michigan.',\n",
       " 'June 26 – Australian National Airways Amana, a Douglas DC-4, crashed after takeoff from Perth Airport, killing all 29 people on board.',\n",
       " 'July 18 - Panair do Brasil Flight 099, a Lockheed L-049 Constellation strikes a hill near Porto Alegre after a failed approach, killing all 51 people on board.',\n",
       " 'August 31 – TWA Flight 903, a Lockheed L-749A Constellation, crashed following an engine fire in the desert about 65 miles (105\\xa0km) NNW of Cairo, Egypt; all 55 on board are killed in the worst ever accident involving the Lockheed L-749.',\n",
       " 'October 31 – A British European Airways Vickers VC.1 Viking crashed on the runway at London Heathrow Airport in foggy weather; of the 30 on board, only a stewardess and a passenger survived.',\n",
       " 'November 3 – Air India Flight 245, a Lockheed L-749A Constellation, crashed into Mont Blanc in France; all 40 passengers and eight crew are killed.',\n",
       " \"November 13 – In the 1950 Tête de l'Obiou C-54 crash, a Douglas C-54 Skymaster operated by Curtiss Reid Flying Services crashed 30 miles (48\\xa0km) from Grenoble, France, on the Tête de l'Obiou mountain; all 52 passengers and crew die.\"]"
      ]
     },
     "execution_count": 6,
     "metadata": {},
     "output_type": "execute_result"
    }
   ],
   "source": [
    "merge_indices = [\n",
    "    [29, 30],\n",
    "    [32, 33],\n",
    "    [36, 37],\n",
    "    [38, 39, 40],\n",
    "    [42, 43],\n",
    "    [45, 46],\n",
    "    [47, 48],\n",
    "    [49, 50],\n",
    "    [51, 52],\n",
    "    [55, 56],\n",
    "    [61, 62],\n",
    "    [63, 64, 65],\n",
    "    [66, 67, 68],\n",
    "    [80, 81],\n",
    "    [86, 87],\n",
    "    [88, 89],\n",
    "    [91, 92],\n",
    "    [93, 94],\n",
    "    [95, 96],\n",
    "    [97, 98, 99],\n",
    "    [105, 106],\n",
    "    [107, 108, 109],\n",
    "    [117, 118, 119],\n",
    "    [121, 122, 123],\n",
    "    [125, 126],\n",
    "    [127, 128, 129, 130, 131],\n",
    "    [136, 137, 138, 139],\n",
    "    [143, 144, 145],\n",
    "    [147, 148],\n",
    "    [149, 150, 151]\n",
    "]\n",
    "\n",
    "\n",
    "\n",
    "def perform_merge(indices, all_content):\n",
    "    new_list = []\n",
    "\n",
    "    for i in indices:\n",
    "        new_list+=all_content[i]\n",
    "    \n",
    "    return new_list\n",
    "\n",
    "def merge():\n",
    "    merged_data = []\n",
    "    for indices in merge_indices:\n",
    "        merged_data.append(perform_merge(indices, all_content))\n",
    "        \n",
    "    return merged_data\n",
    "\n",
    "\n",
    "merged_data = merge()\n",
    "\n",
    "merged_data[0]\n",
    "        "
   ]
  },
  {
   "cell_type": "code",
   "execution_count": 7,
   "metadata": {},
   "outputs": [
    {
     "data": {
      "text/plain": [
       "(153, 30)"
      ]
     },
     "execution_count": 7,
     "metadata": {},
     "output_type": "execute_result"
    }
   ],
   "source": [
    "len(all_content), len(merged_data)"
   ]
  },
  {
   "cell_type": "code",
   "execution_count": 8,
   "metadata": {},
   "outputs": [],
   "source": [
    "new_data = []"
   ]
  },
  {
   "cell_type": "code",
   "execution_count": 9,
   "metadata": {},
   "outputs": [
    {
     "data": {
      "text/plain": [
       "153"
      ]
     },
     "execution_count": 9,
     "metadata": {},
     "output_type": "execute_result"
    }
   ],
   "source": [
    "i = 0\n",
    "for content in all_content:\n",
    "    if i<len(merge_indices) and all_content.index(content)==merge_indices[i][0]:\n",
    "        all_content[merge_indices[i][0]] = merged_data[i]\n",
    "        i+=1\n",
    "len(all_content)"
   ]
  },
  {
   "cell_type": "code",
   "execution_count": 10,
   "metadata": {},
   "outputs": [
    {
     "data": {
      "text/plain": [
       "109"
      ]
     },
     "execution_count": 10,
     "metadata": {},
     "output_type": "execute_result"
    }
   ],
   "source": [
    "ind = 0\n",
    "i = 0\n",
    "\n",
    "while i<len(all_content):\n",
    "    if ind<len(merge_indices) and i==merge_indices[ind][0]:\n",
    "        new_data.append(all_content[merge_indices[ind][0]])\n",
    "        i = merge_indices[ind][-1]\n",
    "        ind+=1\n",
    "    else:    \n",
    "        new_data.append(all_content[i])\n",
    "    i+=1\n",
    "\n",
    "len(new_data)"
   ]
  },
  {
   "cell_type": "code",
   "execution_count": 11,
   "metadata": {},
   "outputs": [
    {
     "data": {
      "text/plain": [
       "['May 20 – Capital Airlines Flight 300, a Vickers Viscount, collided with a USAF T-33, killing all 13 on board the Viscount and one of two on board the T-33; the T-33s pilot parachuted to the ground and survived.',\n",
       " 'May 25 – An Avro York 685 cargo aircraft crashed during a forced landing after an engine catches fire en route from Karachi to Delhi, killing four of the five people on board.',\n",
       " 'June 2 - Aeronaves de México Flight 111, a Lockheed Constellation, hits a mountain shortly after takeoff from Guadalajara, killing all 46 on board.',\n",
       " 'August 9 – Central African Airways Flight 890, a Vickers Viscount, crashes due to pilot error near Benina International Airport, Libya.  Of the 54 on board, 36 are killed.',\n",
       " 'August 14 – KLM Flight 607-E, a Lockheed L-1049 Super Constellation (named Hugo de Groot) en route from Amsterdam to New York, crashed in the Atlantic Ocean shortly after takeoff from Shannon Airport in Ireland, killing all 99 passengers and crew, including six members of the Egyptian fencing team.',\n",
       " 'August 15 – Aeroflot Flight 04, a Tupolev Tu-104, crashed after stalling in an updraft, killing all 64 people on board.',\n",
       " 'August 15 – Northeast Airlines Flight 258, a Convair 240, crashed near Nantucket International Airport due to pilot error, killing 25 of 34 on board.',\n",
       " 'September 2 – An Independent Air Travel Vickers VC.1 Viking crashed near Southall, Middlesex, killing all three crew on board and another four people on the ground.',\n",
       " \"September 5 – Aeroflot Flight 365, an Avia 14P, was hijacked mid-air by a passenger who demanded to talk to the pilot. The aircraft landed at Jõhvi in flames after the hijacker's bomb started a fire; all 17 on board escaped the burning aircraft except the hijacker, who died when the aircraft burned out.\",\n",
       " 'October 17 – An Aeroflot Tupolev Tu-104 crashed near Kanash, Russia due to a loss of control after encountering severe turbulence, killing all 80 on board.',\n",
       " 'October 22 – British European Airways Flight 142, a Vickers Viscount, collided with an Italian Air Force North American F-86 Sabre over Italy, all 31 on board die.',\n",
       " 'December 4 – An Aviaco SNCASE Languedoc crashed in the Guadarrama Mountains, killing all 21 people on board.',\n",
       " 'December 24 – A BOAC Bristol Britannia crashed near Christchurch, Dorset, England, killing nine of 12 on board.',\n",
       " 'January 8 – Southeast Airlines Flight 308, a Douglas DC-3A, crashed into the Holston Mountain range, Tennessee, on approach to the Tri-Cities Regional Airport, killing all 10 people on board.',\n",
       " 'January 11 – Lufthansa Flight 502, a Lockheed L-1049 Super Constellation, crashed on approach to Rio de Janeiro–Galeão International Airport, Brazil, 36 of the 39 on board are killed.',\n",
       " 'January 16 – Austral Líneas Aéreas Flight 205, a Curtiss C-46 Commando, crashed after a missed approach to Mar Del Plata Airport in Argentina, killing 51 of the 52 people on board.',\n",
       " 'February 3 – American Airlines Flight 320, a Lockheed L-188 Super Electra, crashed into the East River, New York City, as a result of pilot error; 65 passengers and crew are killed.',\n",
       " 'February 3 – Pan Am Flight 115, a Boeing 707 with 119 people on board experienced an unplanned emergency descent from 35,000\\xa0ft to 6,000\\xa0ft. The crew manage to regain control and make an emergency landing in Gander, Canada.',\n",
       " 'February 17 – In the 1959 Turkish Airlines Gatwick crash, a chartered Vickers Viscount 793 carrying the Turkish prime minister and other government officials crashed in heavy fog during its final approach into London Gatwick Airport; five of the eight crew and nine of the 16 passengers die in the accident; Prime Minister Adnan Menderes is among the 10 survivors.',\n",
       " 'April 23 – In the 1959 Air Charter Turkey crash, an Avro Super Trader IV crashed on Mount Süphan, Turkey; all 12 crew on board die.',\n",
       " 'May 12 – Capital Airlines Flight 75, a Vickers Viscount 745D flying from New York City to Atlanta, broke up in flight over Chase, Maryland, due to loss of control in severe turbulence; all 31 on board are killed.',\n",
       " 'June 22 - Pan Am Clipper Panama, a Douglas DC-6, erupts in flames after a propeller separates on takeoff. The aircraft is destroyed but everyone survives.',\n",
       " 'June 26 – TWA Flight 891, a Lockheed Starliner, broke up in mid-air and crashed near Marnate after it was struck by lightning; all 68 passengers and crew on board are killed.',\n",
       " 'August 15 – American Airlines Flight 514, a Boeing 707 crashed near Calverton-Peconic River Airport, New York after a loss of control. All five crew members are killed in the first crash involving a Boeing 707.',\n",
       " 'August 19 – A Transair Douglas Dakota crashed into a mountain in Spain, killing all 32 on board.',\n",
       " 'September 24 – TAI Flight 307, a Douglas DC-7, crashed into a pine forest on departure from Mérignac Airport, France; 54 of the 65 people on board are killed.',\n",
       " 'September 29 – Braniff Flight 542, a Lockheed L-188 Electra, broke up in mid-air and crashed 4 miles (6.4\\xa0km) from Buffalo, Texas; all 34 on board die.',\n",
       " 'October 23 - Aeroflot Flight 200, an Ilyushin Il-14, strikes trees on approach to Vnukovo, killing 28 and leaving one survivor.',\n",
       " 'October 30 – Piedmont Airlines Flight 349, a Douglas DC-3, crashed on Bucks Elbow Mountain near Charlottesville, Virginia, killing the crew of three and 23 of 24 passengers; the sole survivor was seriously injured; the cause is a navigational error during an Instrument Landing System approach.',\n",
       " 'November 16 – National Airlines Flight 967, a Douglas DC-7B, exploded in mid-air for reasons unknown and crashed into the Gulf of Mexico while on a flight from Tampa, Florida, to New Orleans, Louisiana; all 40 on board die.',\n",
       " 'November 16 – Aeroflot Flight 315, an Antonov An-10, entered a nosedive and crashed on approach to Lviv Airport due to tail icing, killing all 40 on board.',\n",
       " 'November 21 – Ariana Afghan Airlines Flight 202, a Douglas DC-4, crashed into a hillside near Beirut shortly after takeoff, killing 24 of 27 on board.',\n",
       " 'December 1 – Allegheny Airlines Flight 371, a Martin 2-0-2 crashed on approach into Williamsport Regional Airport, Pennsylvania. Only one passenger survives out of the 26 passengers and crew on board.']"
      ]
     },
     "execution_count": 11,
     "metadata": {},
     "output_type": "execute_result"
    }
   ],
   "source": [
    "merge_indices = [\n",
    "    [43, 44],\n",
    "    [86, 87],\n",
    "    [88, 89],\n",
    "    [102, 103]\n",
    "]\n",
    "\n",
    "def perform_merge(indices, all_content):\n",
    "    new_list = []\n",
    "\n",
    "    for i in indices:\n",
    "        new_list+=all_content[i]\n",
    "    \n",
    "    return new_list\n",
    "\n",
    "def merge():\n",
    "    merged_data = []\n",
    "    for indices in merge_indices:\n",
    "        merged_data.append(perform_merge(indices, all_content))\n",
    "        \n",
    "    return merged_data\n",
    "\n",
    "\n",
    "merged_data = merge()\n",
    "\n",
    "merged_data[0]\n"
   ]
  },
  {
   "cell_type": "code",
   "execution_count": 12,
   "metadata": {},
   "outputs": [
    {
     "name": "stdout",
     "output_type": "stream",
     "text": [
      "109\n"
     ]
    }
   ],
   "source": [
    "i = 0\n",
    "for content in new_data:\n",
    "    if i<len(merge_indices) and new_data.index(content)==merge_indices[i][0]:\n",
    "        new_data[merge_indices[i][0]] = merged_data[i]\n",
    "        i+=1\n",
    "print(len(new_data))"
   ]
  },
  {
   "cell_type": "code",
   "execution_count": 13,
   "metadata": {},
   "outputs": [
    {
     "data": {
      "text/plain": [
       "105"
      ]
     },
     "execution_count": 13,
     "metadata": {},
     "output_type": "execute_result"
    }
   ],
   "source": [
    "ind = 0\n",
    "i = 0\n",
    "\n",
    "new_new_data = []\n",
    "\n",
    "while i<len(new_data):\n",
    "    if ind<len(merge_indices) and i==merge_indices[ind][0]:\n",
    "        new_new_data.append(new_data[merge_indices[ind][0]])\n",
    "        i = merge_indices[ind][-1]\n",
    "        ind+=1\n",
    "    else:    \n",
    "        new_new_data.append(new_data[i])\n",
    "    i+=1\n",
    "\n",
    "len(new_new_data)"
   ]
  },
  {
   "cell_type": "code",
   "execution_count": 14,
   "metadata": {},
   "outputs": [],
   "source": [
    "final_data = {}\n",
    "\n",
    "for year, data in zip(all_years, new_new_data):\n",
    "    final_data[year] = data\n"
   ]
  },
  {
   "cell_type": "code",
   "execution_count": 15,
   "metadata": {},
   "outputs": [
    {
     "name": "stdout",
     "output_type": "stream",
     "text": [
      "August 2 – A Caproni Ca.48 crashed at Verona, Italy, during a flight from Venice to Taliedo, Milan, killing all on board (14, 15, or 17 people, according to different sources).\n"
     ]
    }
   ],
   "source": [
    "print(final_data['1919'][1])"
   ]
  },
  {
   "cell_type": "code",
   "execution_count": 16,
   "metadata": {},
   "outputs": [],
   "source": [
    "# import spacy\n",
    "\n",
    "# nlp = spacy.load('en_core_web_sm')\n",
    "# text = final_data['1919'][0]\n",
    "\n",
    "# doc = nlp(text)\n",
    "\n",
    "# airlines = [str(ent) for ent in doc.ents if ent.label_=='ORG']\n",
    "# print(airlines)\n",
    "\n",
    "# airline_words = [\"Air\", \"Jet\", \"Fly\", \"Sky\", \"Wings\", \"Express\", \"Global\", \"International\", \"World\", \"Aviation\", \"Airways\", \"Cargo\",\n",
    "#     \"Aero\", \"Travel\", \"Pacific\", \"Charter\", \"National\", \"Royal\"]\n",
    "\n",
    "# for airline in airlines:\n",
    "#     for keyword in airline_words:\n",
    "#         if keyword in airline.split(\" \"):\n",
    "#             print(airline)"
   ]
  },
  {
   "cell_type": "code",
   "execution_count": 17,
   "metadata": {},
   "outputs": [
    {
     "data": {
      "text/plain": [
       "36"
      ]
     },
     "execution_count": 17,
     "metadata": {},
     "output_type": "execute_result"
    }
   ],
   "source": [
    "len(final_data['1973'])"
   ]
  },
  {
   "cell_type": "code",
   "execution_count": 18,
   "metadata": {},
   "outputs": [],
   "source": [
    "def load_json():\n",
    "    import json\n",
    "    with open('airline_by_year.json', 'r') as f:\n",
    "        airline_by_year = json.load(f)\n",
    "\n",
    "    return airline_by_year\n",
    "\n",
    "airline_by_year = load_json()"
   ]
  },
  {
   "cell_type": "code",
   "execution_count": 19,
   "metadata": {},
   "outputs": [],
   "source": [
    "# missed_years = []\n",
    "# for year, incidents in final_data.items():\n",
    "#     if len(incidents) != len(airline_by_year[year]):\n",
    "#         missed_years.append(year)"
   ]
  },
  {
   "cell_type": "code",
   "execution_count": 20,
   "metadata": {},
   "outputs": [],
   "source": [
    "airplane_set = set()\n",
    "for year, incidents in airline_by_year.items():\n",
    "    temp_set = set(incidents)\n",
    "    for airline in temp_set:\n",
    "        try:\n",
    "            airplane_set.add(airline)\n",
    "        except:\n",
    "            print(\"Already in set\")\n",
    "    "
   ]
  },
  {
   "cell_type": "code",
   "execution_count": 21,
   "metadata": {},
   "outputs": [],
   "source": [
    "# airplane_set"
   ]
  },
  {
   "cell_type": "markdown",
   "metadata": {},
   "source": [
    "## Create Train Data for Custom NER"
   ]
  },
  {
   "cell_type": "code",
   "execution_count": 22,
   "metadata": {},
   "outputs": [],
   "source": [
    "import re\n",
    "\n",
    "TRAIN_DATA = []\n",
    "\n",
    "for year, incidents in final_data.items():\n",
    "    for incident in incidents:\n",
    "        entities = []\n",
    "        for airline in airplane_set:\n",
    "            matches = [(m.start(), m.end()) for m in re.finditer(rf'\\b{re.escape(airline)}\\b', incident)]\n",
    "            for start_index, end_index in matches:\n",
    "                entities.append((start_index, end_index, \"AIRLINE\"))\n",
    "\n",
    "        if entities:  # Only add if at least one airline is found\n",
    "            TRAIN_DATA.append((incident, {'entities': entities}))\n"
   ]
  },
  {
   "cell_type": "markdown",
   "metadata": {},
   "source": [
    "### Remove overlapping entities"
   ]
  },
  {
   "cell_type": "code",
   "execution_count": 23,
   "metadata": {},
   "outputs": [],
   "source": [
    "def remove_overlapping_entities(entities):\n",
    "    entities = sorted(entities, key=lambda x: (x[0], x[1]))  # Sort by start index\n",
    "    filtered_entities = []\n",
    "    \n",
    "    prev_start, prev_end, prev_label = entities[0]\n",
    "    filtered_entities.append((prev_start, prev_end, prev_label))\n",
    "\n",
    "    for start, end, label in entities[1:]:\n",
    "        if start < prev_end:  # Overlapping entity found\n",
    "            continue  # Skip the smaller entity\n",
    "        filtered_entities.append((start, end, label))\n",
    "        prev_start, prev_end, prev_label = start, end, label\n",
    "    \n",
    "    return filtered_entities\n",
    "\n",
    "# Apply this function before training\n",
    "TRAIN_DATA_FIXED = [(text, {\"entities\": remove_overlapping_entities(annotations[\"entities\"])}) for text, annotations in TRAIN_DATA]"
   ]
  },
  {
   "cell_type": "markdown",
   "metadata": {},
   "source": [
    "## Training a custom NER pipeline"
   ]
  },
  {
   "cell_type": "code",
   "execution_count": null,
   "metadata": {},
   "outputs": [],
   "source": [
    "import spacy\n",
    "# from spacy.training.example import Example\n",
    "\n",
    "# def train_ner():\n",
    "    # nlp = spacy.blank(\"en\") # create a blank spacy model\n",
    "\n",
    "    # if 'ner' not in nlp.pipe_names:\n",
    "    #     ner = nlp.create_pipe(\"ner\") # create a new component\n",
    "    #     nlp.add_pipe(\"ner\", last=True) # add it to the pipeline if not present\n",
    "    # else:\n",
    "    #     ner = nlp.get_pipe(\"ner\") # get the component from the pipeline if it exists\n",
    "\n",
    "    # iterate over the TRAIN_DATA and get the entities\n",
    "    # for _, annotations in TRAIN_DATA_FIXED: \n",
    "    #     for ent in annotations.get(\"entities\"):\n",
    "    #         ner.add_label(ent[2])\n",
    "\n",
    "    # optimizer = nlp.begin_training() # initialize the optimizer to update the model\n",
    "\n",
    "\"\"\"\n",
    "    Runs 30 training epochs.\n",
    "    Converts each text-annotation pair into a spaCy Example object.\n",
    "    Updates the NER model with the training examples.\n",
    "    Uses a dropout rate of 50% (drop=0.5) to prevent overfitting.\n",
    "\"\"\"\n",
    "    # for epoch in range(30):\n",
    "    #     print(f\"Epoch number - {epoch+1}\")\n",
    "    #     for text, annotations in TRAIN_DATA_FIXED:\n",
    "    #         # print(text)\n",
    "    #         example = Example.from_dict(nlp.make_doc(text), annotations)\n",
    "    #         nlp.update([example], drop=0.5)\n",
    "\n",
    "    # nlp.to_disk(\"airline_ner\") # save to disk"
   ]
  },
  {
   "cell_type": "code",
   "execution_count": 25,
   "metadata": {},
   "outputs": [
    {
     "name": "stdout",
     "output_type": "stream",
     "text": [
      "Aeroflot AIRLINE\n"
     ]
    }
   ],
   "source": [
    "airline_ner = spacy.load(\"airline_ner\")\n",
    "\n",
    "# Test the trained NER model\n",
    "doc = airline_ner(\"Aeroflot Flight 964, a Tupolev Tu-104, crashed while on approach to Domodedovo International Airport, Moscow, Russia after the pilots became disorientated following an electrical failure, killing all 122 on board in the deadliest accident involving the Tu-104.\")\n",
    "for ent in doc.ents:\n",
    "    print(ent.text, ent.label_)"
   ]
  },
  {
   "cell_type": "code",
   "execution_count": 26,
   "metadata": {},
   "outputs": [],
   "source": [
    "year_to_airline_mapping = {}\n",
    "\n",
    "def extract_airline(incident):\n",
    "    doc = airline_ner(incident)\n",
    "    airlines = []\n",
    "    for ent in doc.ents:\n",
    "        airlines.append(ent.text)\n",
    "    \n",
    "    return airlines[0] if len(airlines)==1 else airlines\n",
    "\n",
    "for year, incidents in final_data.items():\n",
    "    airline_involved = []\n",
    "    for incident in incidents:\n",
    "        temp = extract_airline(incident)\n",
    "        if type(temp)==list:\n",
    "            for i in temp:\n",
    "                airline_involved.append(i)\n",
    "        else:\n",
    "            airline_involved.append(temp)\n",
    "    year_to_airline_mapping[year] = airline_involved\n"
   ]
  },
  {
   "cell_type": "code",
   "execution_count": 29,
   "metadata": {},
   "outputs": [],
   "source": [
    "incidents_by_year = []\n",
    "for crash in final_data.values():\n",
    "    incident = []\n",
    "    for j in crash:\n",
    "        incident.append(j)\n",
    "    incidents_by_year.append(incident)"
   ]
  },
  {
   "cell_type": "code",
   "execution_count": 30,
   "metadata": {},
   "outputs": [],
   "source": [
    "# len(incidents_by_year)"
   ]
  },
  {
   "cell_type": "markdown",
   "metadata": {},
   "source": [
    "## Transform"
   ]
  },
  {
   "cell_type": "code",
   "execution_count": 31,
   "metadata": {},
   "outputs": [],
   "source": [
    "import spacy\n",
    "import re\n",
    "import pandas as pd\n",
    "\n",
    "nlp = spacy.load(\"en_core_web_sm\")\n",
    "\n",
    "# Keywords for regex pattern\n",
    "keywords = [\n",
    "    \"crashed at\", \"crashed near\", \"crashed while\", \"exploded in\", \"in the\", \"over the\",\n",
    "    \"crash site\", \"crash\", \"in\", \"disappeared over\", \"over\", \"mid-air collision\", \"collision\"\n",
    "]\n",
    "\n",
    "# Create regex pattern dynamically\n",
    "pattern = r\"(?:{})\\s+([\\w\\s,]+?)(?:\\.\\s|,|\\s+due|\\s+after|\\s+killing|\\s+leading|$)\".format(\"|\".join(map(re.escape, keywords)))\n",
    "\n",
    "def extract_crash_site(text):\n",
    "    \"\"\"Extract crash site using regex, NER, and POS patterns\"\"\"\n",
    "    doc = nlp(text)\n",
    "\n",
    "    # 1️⃣ Regex extraction\n",
    "    regex_matches = re.findall(pattern, text)\n",
    "\n",
    "    # 2️⃣ NER-based extraction\n",
    "    ner_matches = [ent.text for ent in doc.ents if ent.label_ in [\"GPE\", \"LOC\", \"FAC\"]]\n",
    "\n",
    "    # 3️⃣ POS-based pattern extraction\n",
    "    pos_matches = []\n",
    "    for i, token in enumerate(doc):\n",
    "        if token.pos_ == \"VERB\" and i + 4 < len(doc):\n",
    "            next_tokens = [doc[i + j] for j in range(1, 5)]\n",
    "            if (next_tokens[0].pos_ == \"ADP\" and next_tokens[1].pos_ in [\"NOUN\", \"PROPN\"]\n",
    "                    and next_tokens[2].pos_ == \"ADP\" and next_tokens[3].pos_ == \"PROPN\"):\n",
    "                pos_matches.append(f\"{next_tokens[1].text} {next_tokens[2].text} {next_tokens[3].text}\")\n",
    "\n",
    "    # Merge results, filter unique, and return most relevant one\n",
    "    all_sites = list(set(regex_matches + ner_matches + pos_matches))\n",
    "    \n",
    "    if all_sites:\n",
    "        return all_sites[0]  # Return first identified location\n",
    "    return \"NaN\"  # No location found\n",
    "\n",
    "# Process each year's incidents\n",
    "yearly_results = []\n",
    "start_year = 1919  # Modify based on the first year in your dataset\n",
    "\n",
    "for i, incidents in enumerate(incidents_by_year):\n",
    "    year = start_year + i  # Assigning years sequentially\n",
    "    for incident in incidents:\n",
    "        crash_site = extract_crash_site(incident)\n",
    "        yearly_results.append({\"Year\": year, \"Incident\": incident, \"Crash Site\": crash_site})\n",
    "\n",
    "# Convert results to DataFrame for better readability\n",
    "df = pd.DataFrame(yearly_results)\n"
   ]
  },
  {
   "cell_type": "code",
   "execution_count": 32,
   "metadata": {},
   "outputs": [],
   "source": [
    "def clean_crash_site(site):\n",
    "    # Remove unnecessary phrases such as \"International Airport\", \"Airport\", \"approach to\", \"to\", \"from\", etc.\n",
    "    site = re.sub(r\"(International\\sAirport|Airport|approach\\sto|landing\\sat|in\\swhich|flight\\srecorder|to|from|\\s+)\", \"\", site)\n",
    "\n",
    "    # Remove any extra \"the\" at the beginning of the location name\n",
    "    site = re.sub(r\"^the\\s\", \"\", site)\n",
    "\n",
    "    # Normalize common terms (optional, e.g., handle airport abbreviations)\n",
    "    site = site.strip()\n",
    "\n",
    "    return site\n",
    "\n",
    "# Apply the cleaning function to the 'crash_site' column\n",
    "df['cleaned_crash_site'] = df['Crash Site'].apply(clean_crash_site)\n",
    "\n",
    "# Display the updated DataFrame\n",
    "# df.head(20)"
   ]
  },
  {
   "cell_type": "code",
   "execution_count": 33,
   "metadata": {},
   "outputs": [],
   "source": [
    "# df.shape"
   ]
  },
  {
   "cell_type": "code",
   "execution_count": 34,
   "metadata": {},
   "outputs": [],
   "source": [
    "import numpy as np\n",
    "def keep_gpe_loc(text):\n",
    "    doc = nlp(text)  # Process the text with SpaCy\n",
    "    for ent in doc.ents:  # Iterate over the entities in the text\n",
    "        if ent.label_ in ['GPE', 'LOC']:  # Check if the entity is \"GPE\" or \"LOC\"\n",
    "            return text  # Keep the entry if one of the entities is \"GPE\" or \"LOC\"\n",
    "    return np.nan  # Remove the entry if no such entities are found\n",
    "\n",
    "# Apply the filtering function to the 'crash_site' column\n",
    "df['cleaned_crash_site'] = df['cleaned_crash_site'].apply(keep_gpe_loc)\n",
    "# df.head(20), df.shape"
   ]
  },
  {
   "cell_type": "code",
   "execution_count": 35,
   "metadata": {},
   "outputs": [],
   "source": [
    "# df[df['Year']==2023]"
   ]
  },
  {
   "cell_type": "code",
   "execution_count": 36,
   "metadata": {},
   "outputs": [],
   "source": [
    "# len(year_to_airline_mapping)"
   ]
  },
  {
   "cell_type": "code",
   "execution_count": 37,
   "metadata": {},
   "outputs": [],
   "source": [
    "all_incidents = []\n",
    "all_airlines = []\n",
    "\n",
    "for key, val in final_data.items():\n",
    "    key = key.strip()\n",
    "    all_incidents.append(val)\n",
    "    all_airlines.append(year_to_airline_mapping[key])\n",
    "    "
   ]
  },
  {
   "cell_type": "code",
   "execution_count": 40,
   "metadata": {},
   "outputs": [
    {
     "data": {
      "text/plain": [
       "105"
      ]
     },
     "execution_count": 40,
     "metadata": {},
     "output_type": "execute_result"
    }
   ],
   "source": [
    "all_months = []\n",
    "for key, val in final_data.items():\n",
    "    months = []\n",
    "    for i in val:\n",
    "        months.append(i.split(\" \")[0])\n",
    "    all_months.append(months)\n",
    "\n",
    "len(all_months)"
   ]
  },
  {
   "cell_type": "code",
   "execution_count": 41,
   "metadata": {},
   "outputs": [
    {
     "data": {
      "text/plain": [
       "(105, 105)"
      ]
     },
     "execution_count": 41,
     "metadata": {},
     "output_type": "execute_result"
    }
   ],
   "source": [
    "len(all_months), len(all_airlines)"
   ]
  },
  {
   "cell_type": "code",
   "execution_count": null,
   "metadata": {},
   "outputs": [],
   "source": [
    "data = []\n",
    "\n",
    "for year in all_years:\n",
    "    for month, incident, airline in zip(all_months, all_incidents, all_airlines):\n",
    "        for i, j, k  in zip(month, incident,airline):\n",
    "            data.append([year, i, j, k])"
   ]
  },
  {
   "cell_type": "markdown",
   "metadata": {},
   "source": [
    "## Load"
   ]
  },
  {
   "cell_type": "code",
   "execution_count": null,
   "metadata": {},
   "outputs": [
    {
     "data": {
      "text/html": [
       "<div>\n",
       "<style scoped>\n",
       "    .dataframe tbody tr th:only-of-type {\n",
       "        vertical-align: middle;\n",
       "    }\n",
       "\n",
       "    .dataframe tbody tr th {\n",
       "        vertical-align: top;\n",
       "    }\n",
       "\n",
       "    .dataframe thead th {\n",
       "        text-align: right;\n",
       "    }\n",
       "</style>\n",
       "<table border=\"1\" class=\"dataframe\">\n",
       "  <thead>\n",
       "    <tr style=\"text-align: right;\">\n",
       "      <th></th>\n",
       "      <th>year</th>\n",
       "      <th>month</th>\n",
       "      <th>incident</th>\n",
       "      <th>airline/s_involved</th>\n",
       "    </tr>\n",
       "  </thead>\n",
       "  <tbody>\n",
       "    <tr>\n",
       "      <th>0</th>\n",
       "      <td>1919</td>\n",
       "      <td>July</td>\n",
       "      <td>July 21 – The Goodyear dirigible Wingfoot Air ...</td>\n",
       "      <td>Goodyear</td>\n",
       "    </tr>\n",
       "    <tr>\n",
       "      <th>1</th>\n",
       "      <td>1919</td>\n",
       "      <td>August</td>\n",
       "      <td>August 2 – A Caproni Ca.48 crashed at Verona, ...</td>\n",
       "      <td>Caproni</td>\n",
       "    </tr>\n",
       "    <tr>\n",
       "      <th>2</th>\n",
       "      <td>1919</td>\n",
       "      <td>August</td>\n",
       "      <td>August 26 – A SNETA Farman Goliath ditched in ...</td>\n",
       "      <td>SNETA</td>\n",
       "    </tr>\n",
       "    <tr>\n",
       "      <th>3</th>\n",
       "      <td>1919</td>\n",
       "      <td>March</td>\n",
       "      <td>March 31 – A Beijing-Han Airlines Handley Page...</td>\n",
       "      <td>Beijing-Han Airlines</td>\n",
       "    </tr>\n",
       "    <tr>\n",
       "      <th>4</th>\n",
       "      <td>1919</td>\n",
       "      <td>January</td>\n",
       "      <td>January 13 – An Aeromarine 75 seaplane of Aero...</td>\n",
       "      <td>Aeromarine West Indies Airways</td>\n",
       "    </tr>\n",
       "  </tbody>\n",
       "</table>\n",
       "</div>"
      ],
      "text/plain": [
       "   year    month                                           incident  \\\n",
       "0  1919     July  July 21 – The Goodyear dirigible Wingfoot Air ...   \n",
       "1  1919   August  August 2 – A Caproni Ca.48 crashed at Verona, ...   \n",
       "2  1919   August  August 26 – A SNETA Farman Goliath ditched in ...   \n",
       "3  1919    March  March 31 – A Beijing-Han Airlines Handley Page...   \n",
       "4  1919  January  January 13 – An Aeromarine 75 seaplane of Aero...   \n",
       "\n",
       "               airline/s_involved  \n",
       "0                        Goodyear  \n",
       "1                         Caproni  \n",
       "2                           SNETA  \n",
       "3            Beijing-Han Airlines  \n",
       "4  Aeromarine West Indies Airways  "
      ]
     },
     "execution_count": 43,
     "metadata": {},
     "output_type": "execute_result"
    }
   ],
   "source": [
    "df_final = pd.DataFrame(data, columns=['year', 'month', 'incident', 'airline/s_involved'])\n",
    "\n",
    "df_final.head()\n",
    "\n"
   ]
  },
  {
   "cell_type": "code",
   "execution_count": null,
   "metadata": {},
   "outputs": [
    {
     "data": {
      "text/html": [
       "<div>\n",
       "<style scoped>\n",
       "    .dataframe tbody tr th:only-of-type {\n",
       "        vertical-align: middle;\n",
       "    }\n",
       "\n",
       "    .dataframe tbody tr th {\n",
       "        vertical-align: top;\n",
       "    }\n",
       "\n",
       "    .dataframe thead th {\n",
       "        text-align: right;\n",
       "    }\n",
       "</style>\n",
       "<table border=\"1\" class=\"dataframe\">\n",
       "  <thead>\n",
       "    <tr style=\"text-align: right;\">\n",
       "      <th></th>\n",
       "      <th>airline/s_involved</th>\n",
       "    </tr>\n",
       "  </thead>\n",
       "  <tbody>\n",
       "    <tr>\n",
       "      <th>0</th>\n",
       "      <td>Goodyear</td>\n",
       "    </tr>\n",
       "    <tr>\n",
       "      <th>1</th>\n",
       "      <td>Caproni</td>\n",
       "    </tr>\n",
       "    <tr>\n",
       "      <th>2</th>\n",
       "      <td>SNETA</td>\n",
       "    </tr>\n",
       "    <tr>\n",
       "      <th>3</th>\n",
       "      <td>Beijing-Han Airlines</td>\n",
       "    </tr>\n",
       "    <tr>\n",
       "      <th>4</th>\n",
       "      <td>Aeromarine West Indies Airways</td>\n",
       "    </tr>\n",
       "    <tr>\n",
       "      <th>...</th>\n",
       "      <td>...</td>\n",
       "    </tr>\n",
       "    <tr>\n",
       "      <th>187000</th>\n",
       "      <td>Air Busan</td>\n",
       "    </tr>\n",
       "    <tr>\n",
       "      <th>187001</th>\n",
       "      <td>Light Air Services</td>\n",
       "    </tr>\n",
       "    <tr>\n",
       "      <th>187002</th>\n",
       "      <td>American Eagle</td>\n",
       "    </tr>\n",
       "    <tr>\n",
       "      <th>187003</th>\n",
       "      <td>Bering Air</td>\n",
       "    </tr>\n",
       "    <tr>\n",
       "      <th>187004</th>\n",
       "      <td>Cessna</td>\n",
       "    </tr>\n",
       "  </tbody>\n",
       "</table>\n",
       "<p>187005 rows × 1 columns</p>\n",
       "</div>"
      ],
      "text/plain": [
       "                    airline/s_involved\n",
       "0                             Goodyear\n",
       "1                              Caproni\n",
       "2                                SNETA\n",
       "3                 Beijing-Han Airlines\n",
       "4       Aeromarine West Indies Airways\n",
       "...                                ...\n",
       "187000                       Air Busan\n",
       "187001              Light Air Services\n",
       "187002                  American Eagle\n",
       "187003                      Bering Air\n",
       "187004                          Cessna\n",
       "\n",
       "[187005 rows x 1 columns]"
      ]
     },
     "execution_count": 46,
     "metadata": {},
     "output_type": "execute_result"
    }
   ],
   "source": [
    "df_final[['airline/s_involved']]"
   ]
  },
  {
   "cell_type": "code",
   "execution_count": 42,
   "metadata": {},
   "outputs": [],
   "source": [
    "import pandas as pd\n",
    "\n",
    "# Assuming all_data, all_months, and all_airlines are correctly structured\n",
    "data_list = []\n",
    "\n",
    "for idx, (year, incidents) in enumerate(final_data.items()):\n",
    "    months = all_months[idx]  # Get the corresponding months list\n",
    "    airlines = all_airlines[idx]  # Get the corresponding airlines list\n",
    "    \n",
    "    # Zip together month and airline for each incident in that year\n",
    "    for month, airline in zip(months, airlines):\n",
    "        data_list.append([year, month, airline])\n",
    "\n",
    "# Create DataFrame\n",
    "df = pd.DataFrame(data_list, columns=['year', 'month', 'airline'])\n",
    "\n"
   ]
  },
  {
   "cell_type": "code",
   "execution_count": 43,
   "metadata": {},
   "outputs": [
    {
     "data": {
      "text/plain": [
       "(1781, 3)"
      ]
     },
     "execution_count": 43,
     "metadata": {},
     "output_type": "execute_result"
    }
   ],
   "source": [
    "df.shape"
   ]
  },
  {
   "cell_type": "code",
   "execution_count": 44,
   "metadata": {},
   "outputs": [
    {
     "data": {
      "text/html": [
       "<div>\n",
       "<style scoped>\n",
       "    .dataframe tbody tr th:only-of-type {\n",
       "        vertical-align: middle;\n",
       "    }\n",
       "\n",
       "    .dataframe tbody tr th {\n",
       "        vertical-align: top;\n",
       "    }\n",
       "\n",
       "    .dataframe thead th {\n",
       "        text-align: right;\n",
       "    }\n",
       "</style>\n",
       "<table border=\"1\" class=\"dataframe\">\n",
       "  <thead>\n",
       "    <tr style=\"text-align: right;\">\n",
       "      <th></th>\n",
       "      <th>year</th>\n",
       "      <th>month</th>\n",
       "      <th>airline</th>\n",
       "    </tr>\n",
       "  </thead>\n",
       "  <tbody>\n",
       "    <tr>\n",
       "      <th>0</th>\n",
       "      <td>1919</td>\n",
       "      <td>July</td>\n",
       "      <td>Goodyear</td>\n",
       "    </tr>\n",
       "    <tr>\n",
       "      <th>1</th>\n",
       "      <td>1919</td>\n",
       "      <td>August</td>\n",
       "      <td>Caproni</td>\n",
       "    </tr>\n",
       "    <tr>\n",
       "      <th>2</th>\n",
       "      <td>1921</td>\n",
       "      <td>August</td>\n",
       "      <td>SNETA</td>\n",
       "    </tr>\n",
       "    <tr>\n",
       "      <th>3</th>\n",
       "      <td>1922</td>\n",
       "      <td>March</td>\n",
       "      <td>Beijing-Han Airlines</td>\n",
       "    </tr>\n",
       "    <tr>\n",
       "      <th>4</th>\n",
       "      <td>1923</td>\n",
       "      <td>January</td>\n",
       "      <td>Aeromarine West Indies Airways</td>\n",
       "    </tr>\n",
       "  </tbody>\n",
       "</table>\n",
       "</div>"
      ],
      "text/plain": [
       "   year    month                         airline\n",
       "0  1919     July                        Goodyear\n",
       "1  1919   August                         Caproni\n",
       "2  1921   August                           SNETA\n",
       "3  1922    March            Beijing-Han Airlines\n",
       "4  1923  January  Aeromarine West Indies Airways"
      ]
     },
     "execution_count": 44,
     "metadata": {},
     "output_type": "execute_result"
    }
   ],
   "source": [
    "df.head()"
   ]
  },
  {
   "cell_type": "code",
   "execution_count": 48,
   "metadata": {},
   "outputs": [],
   "source": [
    "import sqlite3\n",
    "\n",
    "conn = sqlite3.connect('airline.db')\n",
    "df.to_sql(\"airlines_table\", conn, if_exists=\"replace\", index=False) \n",
    "\n",
    "# Export SQL commands to a .sql file\n",
    "with open(\"airlines.sql\", \"w\", encoding=\"utf-8\") as f:\n",
    "    for line in conn.iterdump():  # Dumps SQL statements\n",
    "        f.write(f\"{line}\\n\")\n",
    "\n",
    "conn.close()"
   ]
  },
  {
   "cell_type": "code",
   "execution_count": 50,
   "metadata": {},
   "outputs": [],
   "source": [
    "df.to_csv(\"airline_crashes.csv\", index=False)"
   ]
  },
  {
   "cell_type": "code",
   "execution_count": null,
   "metadata": {},
   "outputs": [],
   "source": []
  }
 ],
 "metadata": {
  "kernelspec": {
   "display_name": "Python 3",
   "language": "python",
   "name": "python3"
  },
  "language_info": {
   "codemirror_mode": {
    "name": "ipython",
    "version": 3
   },
   "file_extension": ".py",
   "mimetype": "text/x-python",
   "name": "python",
   "nbconvert_exporter": "python",
   "pygments_lexer": "ipython3",
   "version": "3.12.5"
  }
 },
 "nbformat": 4,
 "nbformat_minor": 2
}
